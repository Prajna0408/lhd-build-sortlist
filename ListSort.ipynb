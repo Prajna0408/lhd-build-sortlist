{
  "nbformat": 4,
  "nbformat_minor": 0,
  "metadata": {
    "colab": {
      "name": "ListSort.ipynb",
      "provenance": [],
      "authorship_tag": "ABX9TyMrZq3XFoOkBU4ukfCpLCKO",
      "include_colab_link": true
    },
    "kernelspec": {
      "name": "python3",
      "display_name": "Python 3"
    }
  },
  "cells": [
    {
      "cell_type": "markdown",
      "metadata": {
        "id": "view-in-github",
        "colab_type": "text"
      },
      "source": [
        "<a href=\"https://colab.research.google.com/github/Prajna0408/lhd-build-sortlist/blob/main/ListSort.ipynb\" target=\"_parent\"><img src=\"https://colab.research.google.com/assets/colab-badge.svg\" alt=\"Open In Colab\"/></a>"
      ]
    },
    {
      "cell_type": "code",
      "metadata": {
        "colab": {
          "base_uri": "https://localhost:8080/"
        },
        "id": "IUS-mOo4ABp9",
        "outputId": "9b99a2f9-21cc-4d05-f169-1c118383d4ea"
      },
      "source": [
        "Numbers = [41, 68, 8, 45, -9, -150, 87]\r\n",
        "Numbers.sort()\r\n",
        "print(Numbers)\r\n",
        "\r\n",
        "Words = [\"MLH\", \"Alphabets\", \"sorting\", \"List\"]\r\n",
        "Words.sort()\r\n",
        "print(Words)"
      ],
      "execution_count": 1,
      "outputs": [
        {
          "output_type": "stream",
          "text": [
            "[-150, -9, 8, 41, 45, 68, 87]\n",
            "['Alphabets', 'List', 'MLH', 'sorting']\n"
          ],
          "name": "stdout"
        }
      ]
    }
  ]
}